{
 "cells": [
  {
   "cell_type": "markdown",
   "id": "60612cec",
   "metadata": {},
   "source": [
    "# Chi Square Test"
   ]
  },
  {
   "cell_type": "markdown",
   "id": "ff95349d",
   "metadata": {},
   "source": [
    "#### This tests whether the distribution of a categorical variable matches an expected distribution"
   ]
  },
  {
   "cell_type": "code",
   "execution_count": 1,
   "id": "3a357f80",
   "metadata": {},
   "outputs": [],
   "source": [
    "import numpy as np\n",
    "import pandas as pd\n",
    "import scipy.stats as stats"
   ]
  },
  {
   "cell_type": "code",
   "execution_count": 2,
   "id": "1aa1f5e2",
   "metadata": {},
   "outputs": [
    {
     "name": "stdout",
     "output_type": "stream",
     "text": [
      "National\n",
      "col_0      count\n",
      "0               \n",
      "asian      15000\n",
      "black      50000\n",
      "hispanic   60000\n",
      "other      35000\n",
      "white     100000\n",
      " \n",
      "Minnesota\n",
      "col_0     count\n",
      "0              \n",
      "asian        75\n",
      "black       250\n",
      "hispanic    300\n",
      "other       150\n",
      "white       600\n"
     ]
    }
   ],
   "source": [
    "national = pd.DataFrame(['white']*100000 + ['hispanic'] * 60000 + \\\n",
    "                       ['black'] * 50000 + ['asian']*15000 + ['other']*35000)\n",
    "\n",
    "minnesota = pd.DataFrame(['white']*600 + ['hispanic'] * 300 + \\\n",
    "                       ['black'] * 250 + ['asian']*75 + ['other']*150)\n",
    "\n",
    "national_table = pd.crosstab(index=national[0], columns='count')\n",
    "minnesota_table = pd.crosstab(index=minnesota[0], columns='count')\n",
    "\n",
    "print(\"National\")\n",
    "print(national_table)\n",
    "print(\" \")\n",
    "print(\"Minnesota\")\n",
    "print(minnesota_table)"
   ]
  },
  {
   "cell_type": "markdown",
   "id": "713681c5",
   "metadata": {},
   "source": [
    "#### Chi-Squared goodness of fit test uses: sum( [Observed - Expected] ^2 / Expected)"
   ]
  },
  {
   "cell_type": "code",
   "execution_count": 10,
   "id": "caf27a18",
   "metadata": {},
   "outputs": [
    {
     "name": "stdout",
     "output_type": "stream",
     "text": [
      "col_0        count\n",
      "0                 \n",
      "asian     0.057692\n",
      "black     0.192308\n",
      "hispanic  0.230769\n",
      "other     0.134615\n",
      "white     0.384615\n",
      "col_0\n",
      "count    18.194805\n",
      "dtype: float64\n"
     ]
    }
   ],
   "source": [
    "#Manual Chi-Square Test\n",
    "\n",
    "observed = minnesota_table\n",
    "\n",
    "national_ratios = national_table / len(national)\n",
    "\n",
    "print(national_ratios)\n",
    "\n",
    "expected = national_ratios * len(minnesota)\n",
    "\n",
    "chi_squared_stat = ((observed - expected) ** 2 / expected).sum()\n",
    "\n",
    "print(chi_squared_stat)"
   ]
  },
  {
   "cell_type": "code",
   "execution_count": 16,
   "id": "74beab84",
   "metadata": {},
   "outputs": [
    {
     "name": "stdout",
     "output_type": "stream",
     "text": [
      "Critical Value 9.487729036781154\n",
      "P Value [0.00113047]\n"
     ]
    }
   ],
   "source": [
    "crit = stats.chi2.ppf(q = 0.95, #Find critical value of 95% CI\n",
    "                     df = 4) # Degrees of freedom = # Categories - 1\n",
    "\n",
    "print(\"Critical Value\", crit)\n",
    "\n",
    "p_value = 1 - stats.chi2.cdf(chi_squared_stat, # Find the p-value\n",
    "                            df = 4)\n",
    "\n",
    "print(\"P Value\", p_value)"
   ]
  },
  {
   "cell_type": "code",
   "execution_count": 18,
   "id": "e8c48e09",
   "metadata": {},
   "outputs": [
    {
     "name": "stdout",
     "output_type": "stream",
     "text": [
      "We reject the null hypothesis\n"
     ]
    }
   ],
   "source": [
    "#### P-value of 0.001 suggests significance up to 99.8% CI\n",
    "\n",
    "if crit < chi_squared_stat[0]:\n",
    "    print(\"We reject the null hypothesis\")"
   ]
  },
  {
   "cell_type": "code",
   "execution_count": 20,
   "id": "9771b6fa",
   "metadata": {},
   "outputs": [
    {
     "data": {
      "text/plain": [
       "Power_divergenceResult(statistic=array([18.19480519]), pvalue=array([0.00113047]))"
      ]
     },
     "execution_count": 20,
     "metadata": {},
     "output_type": "execute_result"
    }
   ],
   "source": [
    "#Automatically run the Chi-square test\n",
    "\n",
    "stats.chisquare(f_obs = observed, #array of observed counts\n",
    "               f_exp = expected) #array of expected counts"
   ]
  },
  {
   "cell_type": "markdown",
   "id": "0d253fd7",
   "metadata": {},
   "source": [
    "# Chi-Square test of independence"
   ]
  },
  {
   "cell_type": "markdown",
   "id": "27bb808b",
   "metadata": {},
   "source": [
    "#### This can test whether two categorical variables are independent from one another"
   ]
  },
  {
   "cell_type": "code",
   "execution_count": 24,
   "id": "1b5c08ae",
   "metadata": {},
   "outputs": [
    {
     "data": {
      "text/html": [
       "<div>\n",
       "<style scoped>\n",
       "    .dataframe tbody tr th:only-of-type {\n",
       "        vertical-align: middle;\n",
       "    }\n",
       "\n",
       "    .dataframe tbody tr th {\n",
       "        vertical-align: top;\n",
       "    }\n",
       "\n",
       "    .dataframe thead th {\n",
       "        text-align: right;\n",
       "    }\n",
       "</style>\n",
       "<table border=\"1\" class=\"dataframe\">\n",
       "  <thead>\n",
       "    <tr style=\"text-align: right;\">\n",
       "      <th></th>\n",
       "      <th>democrat</th>\n",
       "      <th>independent</th>\n",
       "      <th>republican</th>\n",
       "      <th>row_totals</th>\n",
       "    </tr>\n",
       "  </thead>\n",
       "  <tbody>\n",
       "    <tr>\n",
       "      <th>asian</th>\n",
       "      <td>21</td>\n",
       "      <td>7</td>\n",
       "      <td>32</td>\n",
       "      <td>60</td>\n",
       "    </tr>\n",
       "    <tr>\n",
       "      <th>black</th>\n",
       "      <td>65</td>\n",
       "      <td>25</td>\n",
       "      <td>64</td>\n",
       "      <td>154</td>\n",
       "    </tr>\n",
       "    <tr>\n",
       "      <th>hispanic</th>\n",
       "      <td>107</td>\n",
       "      <td>50</td>\n",
       "      <td>94</td>\n",
       "      <td>251</td>\n",
       "    </tr>\n",
       "    <tr>\n",
       "      <th>other</th>\n",
       "      <td>15</td>\n",
       "      <td>8</td>\n",
       "      <td>15</td>\n",
       "      <td>38</td>\n",
       "    </tr>\n",
       "    <tr>\n",
       "      <th>white</th>\n",
       "      <td>189</td>\n",
       "      <td>96</td>\n",
       "      <td>212</td>\n",
       "      <td>497</td>\n",
       "    </tr>\n",
       "    <tr>\n",
       "      <th>col_totals</th>\n",
       "      <td>397</td>\n",
       "      <td>186</td>\n",
       "      <td>417</td>\n",
       "      <td>1000</td>\n",
       "    </tr>\n",
       "  </tbody>\n",
       "</table>\n",
       "</div>"
      ],
      "text/plain": [
       "            democrat  independent  republican  row_totals\n",
       "asian             21            7          32          60\n",
       "black             65           25          64         154\n",
       "hispanic         107           50          94         251\n",
       "other             15            8          15          38\n",
       "white            189           96         212         497\n",
       "col_totals       397          186         417        1000"
      ]
     },
     "execution_count": 24,
     "metadata": {},
     "output_type": "execute_result"
    }
   ],
   "source": [
    "np.random.seed(10)\n",
    "\n",
    "voter_race = np.random.choice(a = [\"asian\",'black','hispanic','other','white'],\n",
    "                             p = [0.05,0.15,0.25,0.05,0.5],\n",
    "                             size = 1000)\n",
    "\n",
    "voter_party = np.random.choice( a = ['democrat','independent','republican'],\n",
    "                              p = [0.4,0.2,0.4],\n",
    "                              size = 1000)\n",
    "\n",
    "voters = pd.DataFrame({'race':voter_race,\n",
    "                      'party':voter_party})\n",
    "\n",
    "voter_tab = pd.crosstab(voters.race, voters.party, margins = True)\n",
    "\n",
    "voter_tab.columns = ['democrat','independent','republican','row_totals']\n",
    "\n",
    "voter_tab.index = [\"asian\",'black','hispanic','other','white','col_totals']\n",
    "\n",
    "observed = voter_tab.iloc[0:5,0:3] # Get table without totals\n",
    "voter_tab"
   ]
  },
  {
   "cell_type": "markdown",
   "id": "51c41eff",
   "metadata": {},
   "source": [
    "#### Since race and party data were generated independently, we should find the chi-square test of independence indicates independence of the variables"
   ]
  },
  {
   "cell_type": "code",
   "execution_count": 30,
   "id": "9f80d1b5",
   "metadata": {},
   "outputs": [
    {
     "data": {
      "text/html": [
       "<div>\n",
       "<style scoped>\n",
       "    .dataframe tbody tr th:only-of-type {\n",
       "        vertical-align: middle;\n",
       "    }\n",
       "\n",
       "    .dataframe tbody tr th {\n",
       "        vertical-align: top;\n",
       "    }\n",
       "\n",
       "    .dataframe thead th {\n",
       "        text-align: right;\n",
       "    }\n",
       "</style>\n",
       "<table border=\"1\" class=\"dataframe\">\n",
       "  <thead>\n",
       "    <tr style=\"text-align: right;\">\n",
       "      <th></th>\n",
       "      <th>democrat</th>\n",
       "      <th>independent</th>\n",
       "      <th>republican</th>\n",
       "    </tr>\n",
       "  </thead>\n",
       "  <tbody>\n",
       "    <tr>\n",
       "      <th>asian</th>\n",
       "      <td>23.820</td>\n",
       "      <td>11.160</td>\n",
       "      <td>25.020</td>\n",
       "    </tr>\n",
       "    <tr>\n",
       "      <th>black</th>\n",
       "      <td>61.138</td>\n",
       "      <td>28.644</td>\n",
       "      <td>64.218</td>\n",
       "    </tr>\n",
       "    <tr>\n",
       "      <th>hispanic</th>\n",
       "      <td>99.647</td>\n",
       "      <td>46.686</td>\n",
       "      <td>104.667</td>\n",
       "    </tr>\n",
       "    <tr>\n",
       "      <th>other</th>\n",
       "      <td>15.086</td>\n",
       "      <td>7.068</td>\n",
       "      <td>15.846</td>\n",
       "    </tr>\n",
       "    <tr>\n",
       "      <th>white</th>\n",
       "      <td>197.309</td>\n",
       "      <td>92.442</td>\n",
       "      <td>207.249</td>\n",
       "    </tr>\n",
       "  </tbody>\n",
       "</table>\n",
       "</div>"
      ],
      "text/plain": [
       "          democrat  independent  republican\n",
       "asian       23.820       11.160      25.020\n",
       "black       61.138       28.644      64.218\n",
       "hispanic    99.647       46.686     104.667\n",
       "other       15.086        7.068      15.846\n",
       "white      197.309       92.442     207.249"
      ]
     },
     "execution_count": 30,
     "metadata": {},
     "output_type": "execute_result"
    }
   ],
   "source": [
    "#Get the expected distribution if the two variables were independent\n",
    "expected = np.outer(voter_tab['row_totals'][0:5],\n",
    "                 voter_tab.loc['col_totals'][0:3]) / observed.sum().sum()\n",
    "\n",
    "expected = pd.DataFrame(expected)\n",
    "\n",
    "expected.columns = ['democrat', 'independent','republican']\n",
    "expected.index = [\"asian\",'black','hispanic','other','white']\n",
    "\n",
    "expected"
   ]
  },
  {
   "cell_type": "code",
   "execution_count": 32,
   "id": "91e8c0a3",
   "metadata": {},
   "outputs": [
    {
     "name": "stdout",
     "output_type": "stream",
     "text": [
      "7.169321280162059\n"
     ]
    }
   ],
   "source": [
    "chi_squared_stat = ((observed - expected) ** 2 / expected).sum().sum()\n",
    "\n",
    "print(chi_squared_stat)"
   ]
  },
  {
   "cell_type": "code",
   "execution_count": 33,
   "id": "2fca4dbd",
   "metadata": {},
   "outputs": [
    {
     "name": "stdout",
     "output_type": "stream",
     "text": [
      "Critical Value 15.50731305586545\n",
      "P Value 0.518479392948842\n"
     ]
    }
   ],
   "source": [
    "crit = stats.chi2.ppf(q = 0.95, #Find critical value of 95% CI\n",
    "                     df = 8) # Degrees of freedom = # Categories - 1 for each dimension (5-1) x (3-1) = 8\n",
    "\n",
    "print(\"Critical Value\", crit)\n",
    "\n",
    "p_value = 1 - stats.chi2.cdf(chi_squared_stat, # Find the p-value\n",
    "                            df = 8)\n",
    "\n",
    "print(\"P Value\", p_value)"
   ]
  },
  {
   "cell_type": "code",
   "execution_count": 36,
   "id": "f7d8e5a0",
   "metadata": {},
   "outputs": [
    {
     "name": "stdout",
     "output_type": "stream",
     "text": [
      "We fail to reject the null hypothesis\n"
     ]
    }
   ],
   "source": [
    "#Null hypothesis is that the two variables are independent\n",
    "\n",
    "if crit < chi_squared_stat:\n",
    "    print(\"We reject the null hypothesis\")\n",
    "else:\n",
    "    print(\"We fail to reject the null hypothesis\")"
   ]
  },
  {
   "cell_type": "code",
   "execution_count": 37,
   "id": "a1970dbc",
   "metadata": {},
   "outputs": [
    {
     "data": {
      "text/plain": [
       "Chi2ContingencyResult(statistic=7.169321280162059, pvalue=0.518479392948842, dof=8, expected_freq=array([[ 23.82 ,  11.16 ,  25.02 ],\n",
       "       [ 61.138,  28.644,  64.218],\n",
       "       [ 99.647,  46.686, 104.667],\n",
       "       [ 15.086,   7.068,  15.846],\n",
       "       [197.309,  92.442, 207.249]]))"
      ]
     },
     "execution_count": 37,
     "metadata": {},
     "output_type": "execute_result"
    }
   ],
   "source": [
    "#quick test\n",
    "\n",
    "stats.chi2_contingency(observed = observed)"
   ]
  }
 ],
 "metadata": {
  "kernelspec": {
   "display_name": "Python 3 (ipykernel)",
   "language": "python",
   "name": "python3"
  },
  "language_info": {
   "codemirror_mode": {
    "name": "ipython",
    "version": 3
   },
   "file_extension": ".py",
   "mimetype": "text/x-python",
   "name": "python",
   "nbconvert_exporter": "python",
   "pygments_lexer": "ipython3",
   "version": "3.9.18"
  }
 },
 "nbformat": 4,
 "nbformat_minor": 5
}
